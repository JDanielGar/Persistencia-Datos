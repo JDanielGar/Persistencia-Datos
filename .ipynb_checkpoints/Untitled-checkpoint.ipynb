{
 "cells": [
  {
   "cell_type": "markdown",
   "metadata": {},
   "source": [
    "# Dependencias"
   ]
  },
  {
   "cell_type": "code",
   "execution_count": null,
   "metadata": {
    "collapsed": true
   },
   "outputs": [],
   "source": [
    "from datetime import date, datetime\n",
    "import shelve"
   ]
  },
  {
   "cell_type": "markdown",
   "metadata": {},
   "source": [
    "# Clases"
   ]
  },
  {
   "cell_type": "markdown",
   "metadata": {},
   "source": [
    "### Examenes"
   ]
  },
  {
   "cell_type": "code",
   "execution_count": null,
   "metadata": {
    "collapsed": false
   },
   "outputs": [],
   "source": [
    "class Examen:\n",
    "    resultados = []\n",
    "    parametros = []\n",
    "    def __init__(self, registro_medico, nombre_examen):\n",
    "        self.registro_medico = registro_medico;\n",
    "        self.nombre_examen = nombre_examen;\n",
    "        self.estado = False;\n",
    "    def añadirResultados(self):\n",
    "        valores_medidos = int(input(\"Numero de valores medidos\"));\n",
    "        self.añadirValores(valores_medidos)\n",
    "        parametros_referencia = int(input(\"Numero parametros de referencia\"))\n",
    "        self.definirParametros(parametros_referencia);\n",
    "        self.observaciones = input(\"Observaciones: \")\n",
    "        self.estado = True\n",
    "        \n",
    "    def añadirValores(self, valores_medidos):\n",
    "        for vc in range(valores_medidos):\n",
    "            print(\"Valor numero: \", str(vc))\n",
    "            valor_medido = input(\"Escriba el valor:\")\n",
    "            self.resultados.append(valor_medido)\n",
    "    def definirParametros(self, parametros_referencia):\n",
    "        for parametro in range(parametros_referencia):\n",
    "            nombre = input(\"Escriba el nombre de referencia\")\n",
    "            rango_mayor = int(input(\"Escriba el rango mayor\"))\n",
    "            rango_menor = int(input(\"Escriba el rango menor\"))\n",
    "            self.parametros.append({nombre: [rango_mayor, rango_menor]})\n",
    "            \n",
    "Examenes = []"
   ]
  },
  {
   "cell_type": "markdown",
   "metadata": {},
   "source": [
    "## Pacientes"
   ]
  },
  {
   "cell_type": "code",
   "execution_count": 3,
   "metadata": {
    "collapsed": false
   },
   "outputs": [],
   "source": [
    "class Paciente:\n",
    "    citas = [];\n",
    "    examenes = [];\n",
    "    def __init__(self, nombre, apellido, tipo_documento, numero_documento, direccion, eps, telefono, correo_electronico, municipio, departamento):\n",
    "        self.nombre = nombre;\n",
    "        self.apellido = apellido;\n",
    "        self.tipo_documento = tipo_documento;\n",
    "        self.numero_documento = numero_documento;\n",
    "        self.direccion = direccion;\n",
    "        self.eps = eps;\n",
    "        self.telefono = telefono;\n",
    "        self.correo_electronico = correo_electronico;\n",
    "        self.municipio = municipio;\n",
    "        self.departamento = departamento;\n",
    "\n",
    "    def datosCita(self):\n",
    "        fecha = datetime.now()\n",
    "        registro_medico = input(\"Escriba eñ registro_medico\");\n",
    "        if(validarMedico(registro_medico, self.numero_documento)):\n",
    "            print(\"No se encontro medico en la base de datos\")\n",
    "        else:\n",
    "            solicitud = int(input(\"Solicitud Examen: 1. Si, 2. No.\"));\n",
    "            if(solicitud == 1):\n",
    "                self.solicitarExamen(registro_medico);\n",
    "            else:\n",
    "                pass\n",
    "            diagnostico = input(\"Escriba el diagnostico: \")\n",
    "            self.citas.append([fecha, registro_medico, diagnostico])\n",
    "    def solicitarExamen(self, registro_medico):\n",
    "        nombre_examen = input(\"Escriba el nombre del examen que desea solicitar\");\n",
    "        self.examenes.append(Examen(registro_medico, nombre_examen));\n",
    "        \n",
    "        \n",
    "            \n",
    "            \n",
    "    \n",
    "Pacientes = []"
   ]
  },
  {
   "cell_type": "markdown",
   "metadata": {},
   "source": [
    "### Medico"
   ]
  },
  {
   "cell_type": "code",
   "execution_count": 4,
   "metadata": {
    "collapsed": false
   },
   "outputs": [],
   "source": [
    "class Medico(Paciente):\n",
    "    consultas = [];\n",
    "    pacientes_atendidos = 0;\n",
    "    def __init__(self, nombre, apellido, numero_documento, direccion, eps, telefono, correo_electronico, municipio, departamento, registro_medico, especialidades=[]):\n",
    "        self.nombre = nombre;\n",
    "        self.apellido = apellido;\n",
    "        self.numero_documento = numero_documento;\n",
    "        self.direccion = direccion;\n",
    "        self.eps = eps;\n",
    "        self.telefono = telefono;\n",
    "        self.correo_electronico = correo_electronico;\n",
    "        self.municipio = municipio;\n",
    "        self.departamento = departamento;\n",
    "        self.registro_medico = registro_medico;\n",
    "        self.especialidades = especialidades;\n",
    "    def añadirEspecialidad(self):\n",
    "        especialidad = input(\"Escriba el nombre de la especialidad\")\n",
    "        self.especialidades.append(especialidad)\n",
    "    def añadirPaciente(self, numero_documento):\n",
    "        controlador = False\n",
    "        for consulta in self.consultas:\n",
    "            if(numero_documento == consulta[0]):\n",
    "                controlador = True\n",
    "        if(controlador == False):\n",
    "            self.pacientes_atendidos += 1;\n",
    "        self.consultas.append([numero_documento, datetime.now()])\n",
    "        \n",
    "        \n",
    "Medicos = []"
   ]
  },
  {
   "cell_type": "markdown",
   "metadata": {},
   "source": [
    "# Metodos"
   ]
  },
  {
   "cell_type": "markdown",
   "metadata": {},
   "source": [
    "### Añadir Persona"
   ]
  },
  {
   "cell_type": "code",
   "execution_count": 5,
   "metadata": {
    "collapsed": true
   },
   "outputs": [],
   "source": [
    "def añadirPersona():\n",
    "        nombre = input(\"Escriba el nombre del Paciente\");\n",
    "        apellido = input(\"Escriba el apellido del Paciente\")\n",
    "        controlador = False\n",
    "        while(controlador == False):\n",
    "            tipo_documento = input(\"Escriba el tipo de documento: \\n\"\n",
    "                                  \"CC -> Cedula de Ciudadania \\n\"\n",
    "                                  \"CE -> Cedula Extranjera \\n\"\n",
    "                                  \"NIT \\n\"\n",
    "                                  \"RE -> Registro Civil \\n\"\n",
    "                                  \"TI -> Tarjeta de Identidad \\n\"\n",
    "                                  \"Escriba Salir para omitir este menú.\")\n",
    "            if(tipo_documento.lower() in {'cc', 'ce', 'nit', 're', 'ti', 'salir'}):\n",
    "                controlador = True;\n",
    "            else:\n",
    "                print(\"Seleccione una opcion correcta\");\n",
    "        numero_documento = input(\"Escriba el numero de documento: \");\n",
    "        direccion = input(\"Escriba la direccion del paciente: \");\n",
    "        eps = input(\"Escriba la eps del paciente: \");\n",
    "        telefono = input(\"Escriba el telefono del paciente: \");\n",
    "        correo_electronico = input(\"Escriba el correo electronico del paciente: \");\n",
    "        municipio = input(\"Escriba el municipio del paciente: \");\n",
    "        departamento = input(\"Escriba el departamente del paciente: \");\n",
    "        return [nombre, apellido, tipo_documento, numero_documento, direccion, eps, telefono, correo_electronico, municipio, departamento]"
   ]
  },
  {
   "cell_type": "markdown",
   "metadata": {},
   "source": [
    "### Añadir Paciente"
   ]
  },
  {
   "cell_type": "code",
   "execution_count": 6,
   "metadata": {
    "collapsed": true
   },
   "outputs": [],
   "source": [
    "def añadirPaciente():\n",
    "    paciente = añadirPersona()\n",
    "    print(paciente)\n",
    "    Pacientes.append(Paciente(paciente[0], paciente[1], paciente[2], paciente[3], paciente[4], paciente[5], paciente[6], paciente[7], paciente[8], paciente[9]))"
   ]
  },
  {
   "cell_type": "markdown",
   "metadata": {},
   "source": [
    "### Añadir Medico"
   ]
  },
  {
   "cell_type": "code",
   "execution_count": 7,
   "metadata": {
    "collapsed": false
   },
   "outputs": [],
   "source": [
    "def añadirMedico():\n",
    "    numero_documento = input(\"Escriba el documento de identidad del medico\");\n",
    "    paciente_datos = encontrarPacientes(numero_documento)\n",
    "    print(paciente_datos)\n",
    "    if(paciente_datos[0]):\n",
    "        registro_medico = input(\"Escriba el numero de registro medico\")\n",
    "        if(validarMedico(registro_medico)):\n",
    "            print(\"El registro medico ya se encuentra registrado\")\n",
    "        else:\n",
    "            numero_especialidades = int(input(\"Escriba el numero de especialidades\"))\n",
    "            print(\"A continuacion escriba las especialidades del medico\")\n",
    "            especialidades = añadirEspecialidades(numero_especialidades)\n",
    "            Medicos.append(Medico(paciente_datos[1][0], paciente_datos[1][1], paciente_datos[1][2], paciente_datos[1][3], paciente_datos[1][4], paciente_datos[1][5], paciente_datos[1][6], paciente_datos[1][7], paciente_datos[1][8], registro_medico, especialidades))\n",
    "    else:\n",
    "        print(\"Debe registrar al medico como paciente.\")"
   ]
  },
  {
   "cell_type": "markdown",
   "metadata": {},
   "source": [
    "### Validar Medico"
   ]
  },
  {
   "cell_type": "code",
   "execution_count": 8,
   "metadata": {
    "collapsed": true
   },
   "outputs": [],
   "source": [
    "def validarMedico(registro_medico, paciente=\"\"):\n",
    "    for medico in Medicos:\n",
    "        if(medico.registro_medico == registro_medico ):\n",
    "            medico.añadirPaciente(paciente)\n",
    "            return False\n",
    "    return False\n",
    "        "
   ]
  },
  {
   "cell_type": "markdown",
   "metadata": {},
   "source": [
    "### Encontrar Pacientes\n"
   ]
  },
  {
   "cell_type": "code",
   "execution_count": 9,
   "metadata": {
    "collapsed": false
   },
   "outputs": [],
   "source": [
    "def encontrarPacientes(numero_documento):\n",
    "    controlador = False\n",
    "    for paciente in Pacientes:\n",
    "        if(paciente.numero_documento == numero_documento):\n",
    "            controlador = True\n",
    "            return [True, [paciente.nombre, paciente.apellido, paciente.tipo_documento, paciente.direccion, paciente.eps, paciente.telefono, paciente.correo_electronico, paciente.municipio, paciente.departamento]]\n",
    "    if(controlador==False):\n",
    "        print(\"No se encontro documento\")\n",
    "        return [False]\n",
    "        "
   ]
  },
  {
   "cell_type": "markdown",
   "metadata": {},
   "source": [
    "### Añadir Especialidades"
   ]
  },
  {
   "cell_type": "code",
   "execution_count": 10,
   "metadata": {
    "collapsed": true
   },
   "outputs": [],
   "source": [
    "def añadirEspecialidades(numero_especialidades):\n",
    "    especialidades = []\n",
    "    while(numero_especialidades):\n",
    "        especialidad = input(\"Escriba el nombre de la especialidad\");\n",
    "        especialidades.append(especialidad);\n",
    "        numero_especialidades -= 1\n",
    "    return especialidades"
   ]
  },
  {
   "cell_type": "markdown",
   "metadata": {},
   "source": [
    "### Formato Fecha"
   ]
  },
  {
   "cell_type": "code",
   "execution_count": 11,
   "metadata": {
    "collapsed": false
   },
   "outputs": [],
   "source": [
    "def formatoFecha():\n",
    "        print(\"aaaa-mm-dd\");\n",
    "        año = int(input(\"Escriba el año en el que quiere agendar su cita: \"));\n",
    "        mes = int(input(\"Escriba el mes en el que quiere agendar su cita: \"));\n",
    "        dia = int(input(\"Escriba el dia en el que quiere agendar su cita: \"));\n",
    "        hora = int(input(\"Ingrese la hora en los horarios establecidos: \\n Horario de atencion: 9 - 17 \"));\n",
    "        if(hora <= 9 or hora > 18 ):\n",
    "            minutos = int(input(\"Ingrese la franja de atencion que desea: \\n 1.00 \\n2.20 \\n3.40\"));\n",
    "            if(minutos == 1):\n",
    "                minutos = 0;\n",
    "            elif(minutos == 2):\n",
    "                minutos = 20;\n",
    "            elif(minutos == 3):\n",
    "                minutos = 40;\n",
    "            else:\n",
    "                print(\"Franja de atencion no valida\")\n",
    "        else: \n",
    "            print(\"Horario de atencíon no valido\")\n",
    "        return(datetime(año, mes, dia, hora, minutos))"
   ]
  },
  {
   "cell_type": "markdown",
   "metadata": {},
   "source": [
    "### Nueva Consulta"
   ]
  },
  {
   "cell_type": "code",
   "execution_count": 12,
   "metadata": {
    "collapsed": false
   },
   "outputs": [],
   "source": [
    "def nuevaConsulta():\n",
    "    documento_identidad = input(\"Escriba el documento de identidad del paciente\");\n",
    "    controlador = False\n",
    "    for paciente in Pacientes:\n",
    "        if(documento_identidad == paciente.numero_documento):\n",
    "            paciente.datosCita()\n",
    "            controlador = True\n",
    "            break;\n",
    "    if(controlador == False):\n",
    "        print(\"No se encontro documento.\")"
   ]
  },
  {
   "cell_type": "markdown",
   "metadata": {},
   "source": [
    "### Adicionar Datos Examen"
   ]
  },
  {
   "cell_type": "code",
   "execution_count": 13,
   "metadata": {
    "collapsed": false
   },
   "outputs": [],
   "source": [
    "def adicionarExamen():\n",
    "    numero_documento = input(\"Escriba numero documento paciente\")\n",
    "    controlador = False;\n",
    "    for paciente in Pacientes:\n",
    "        if(numero_documento == paciente.numero_documento):\n",
    "            controlador = True;\n",
    "            if(len(paciente.examenes)==0):\n",
    "                print(\"El paciente aun no tiene examenes\");\n",
    "                break\n",
    "            else:\n",
    "                for examen in paciente.examenes:\n",
    "                    print(examen.nombre_examen)\n",
    "                nombre_examen = input(\"Escriba el nombre del examen al que quiere adicionar datos\");\n",
    "                controlador_2 = False;\n",
    "                for examen in paciente.examenes:\n",
    "                    if(nombre_examen == examen.nombre_examen):\n",
    "                        examen.añadirResultados();\n",
    "                        controlador_2 = True;\n",
    "                        break\n",
    "                if(controlador_2 == False):\n",
    "                    print(\"No se encontro el nombre del examen\")\n",
    "                    \n",
    "    if(controlador == False):\n",
    "        print(\"No se encontro documento del paciente\")\n",
    "    "
   ]
  },
  {
   "cell_type": "markdown",
   "metadata": {},
   "source": [
    "### Informacion Personal"
   ]
  },
  {
   "cell_type": "code",
   "execution_count": 14,
   "metadata": {
    "collapsed": true
   },
   "outputs": [],
   "source": [
    "def informacionPersonal():\n",
    "    numero_documento=input(\"Escriba el numero de documento del paciente:\")\n",
    "    datos_busqueda = encontrarPacientes(numero_documento)\n",
    "    informacion = [\"Nombre:\", \"Apellido:\", \"Tipo de documento:\", \"Documento Identidad:\", \"Direccion:\", \"Eps:\", \"Telefono:\", \"Correo:\", \"Municipio:\", \"Departamento:\"]\n",
    "    if(datos_busqueda[0]):\n",
    "        vc=0\n",
    "        datos = datos_busqueda[1]\n",
    "        for datos in datos_busqueda[1]:\n",
    "            print(\"-------------------------------\");\n",
    "            print(informacion[vc])\n",
    "            print(datos);\n",
    "            print(\"-------------------------------\");\n",
    "            vc += 1;"
   ]
  },
  {
   "cell_type": "markdown",
   "metadata": {},
   "source": [
    "### Mostrar Historia"
   ]
  },
  {
   "cell_type": "code",
   "execution_count": 28,
   "metadata": {
    "collapsed": false
   },
   "outputs": [],
   "source": [
    "def mostrarHistoria():\n",
    "    opc = int(input(\"1. Mostrar toda la historia. \\n\"\n",
    "                           \"2. Mostrar por fecha en particular. \\n\"\n",
    "                           \"3. Mostrar por rango de fecha.\"))\n",
    "    numero_documento=input(\"Escriba el numero de documento del paciente:\");\n",
    "    controlador = True\n",
    "    for paciente in Pacientes:\n",
    "        if(numero_documento == paciente.numero_documento):\n",
    "            print(\"Paciente encontrado\")\n",
    "            opcion = int(input(\"1. Incluir Examenes. \\n 2. No incluirlos\"))\n",
    "            vc = 0\n",
    "            if(opc==1):\n",
    "                for cita in paciente.citas:\n",
    "                    print(\"-------------------------------\");\n",
    "                    print(\"Historia no.\", str(vc));\n",
    "                    print(\"Dia:\", cita[0].day, \"Mes:\", cita[0].month, \"Año:\", cita[0].year);\n",
    "                    print(\"Registro del medico:\", cita[1]);\n",
    "                    print(\"Diagnostico:\", cita[2]);\n",
    "                    print(\"-------------------------------\");\n",
    "                    vc += 1;\n",
    "                if(opcion == 1):\n",
    "                    vc = 0\n",
    "                    for examen in paciente.examenes:\n",
    "                        print(\"-------------------------------\");\n",
    "                        print(\"Examen no.\", str(vc));\n",
    "                        if(examen.estado):\n",
    "                            print(\"Resultados:\");\n",
    "                            print(examen.resultados);\n",
    "                        else:\n",
    "                            print(\"Aun no hay resultados.\")\n",
    "                        print(\"Registro Medico: \", examen.registro_medico);\n",
    "                        print(\"-------------------------------\");\n",
    "            elif(opc==2):\n",
    "                for cita in paciente.citas:\n",
    "                    if(Fecha() == cita[0].date()):\n",
    "                        print(\"-------------------------------\");\n",
    "                        print(\"Historia no.\", str(vc));\n",
    "                        print(\"Dia:\", cita[0].day, \"Mes:\", cita[0].month, \"Año:\", cita[0].year);\n",
    "                        print(\"Registro del medico:\", cita[1]);\n",
    "                        print(\"Diagnostico:\", cita[2]);\n",
    "                        print(\"-------------------------------\");\n",
    "                        vc += 1;\n",
    "                        if(opcion==1):\n",
    "                            for examen in paciente.examenes:\n",
    "                                print(\"-------------------------------\");\n",
    "                                print(\"Examen no.\", str(vc));\n",
    "                                if(examen.estado):\n",
    "                                    print(\"Resultados:\");\n",
    "                                    print(examen.resultados);\n",
    "                                else:\n",
    "                                    print(\"Aun no hay resultados.\")\n",
    "                                    print(\"Registro Medico: \", examen.registro_medico);\n",
    "                                    print(\"-------------------------------\");\n",
    "                        break\n",
    "            \n",
    "            elif(opc==3):\n",
    "                print(\"Escriba el rango de fecha 1 (Menor).\")\n",
    "                day = int(input(\"Escriba el dia de su cita\"))\n",
    "                month = int(input(\"Escriba el mes de su cita.\"))\n",
    "                year = int(input(\"Escriba el año de su cita\"))\n",
    "                fecha_1 = date(year, month, day)\n",
    "                print(\"Escriba el rango de fecha 2. (Mayor)\")\n",
    "                day = int(input(\"Escriba el dia de su cita\"))\n",
    "                month = int(input(\"Escriba el mes de su cita.\"))\n",
    "                year = int(input(\"Escriba el año de su cita\"))\n",
    "                fecha_2 = date(year, month, day)\n",
    "                for cita in paciente.citas:\n",
    "                    if(cita[0].date() >= fecha_1 and cita[0].date() <= fecha_2):\n",
    "                        print(\"-------------------------------\");\n",
    "                        print(\"Historia no.\", str(vc));\n",
    "                        print(\"Dia:\", cita[0].day, \"Mes:\", cita[0].month, \"Año:\", cita[0].year);\n",
    "                        print(\"Registro del medico:\", cita[1]);\n",
    "                        print(\"Diagnostico:\", cita[2]);\n",
    "                        print(\"-------------------------------\");\n",
    "                        vc += 1;\n",
    "                        if(opcion==1):\n",
    "                            for examen in paciente.examenes:\n",
    "                                print(\"-------------------------------\");\n",
    "                                print(\"Examen no.\", str(vc));\n",
    "                                if(examen.estado):\n",
    "                                    print(\"Resultados:\");\n",
    "                                    print(examen.resultados);\n",
    "                                else:\n",
    "                                    print(\"Aun no hay resultados.\")\n",
    "                                    print(\"Registro Medico: \", examen.registro_medico);\n",
    "                                    print(\"-------------------------------\");\n",
    "                        break\n",
    "            break;\n",
    "                    \n",
    "    if(controlador == False):\n",
    "        print(\"No se encontro documento paciente\")\n",
    "    \n",
    "            "
   ]
  },
  {
   "cell_type": "markdown",
   "metadata": {},
   "source": [
    "### Atencion Pacientes"
   ]
  },
  {
   "cell_type": "code",
   "execution_count": 22,
   "metadata": {
    "collapsed": false
   },
   "outputs": [],
   "source": [
    "def atencionPacientes():\n",
    "    fecha_actual = datetime.now()\n",
    "    fecha_pasada = fecha_actual.date()\n",
    "    mes_pasado = fecha_pasada.month - 1\n",
    "    fecha_pasada = fecha_pasada.replace( month = mes_pasado)\n",
    "    for paciente in Pacientes:\n",
    "        contador = 0\n",
    "        for cita in paciente.citas:\n",
    "            if(mesPasado(cita[0])):\n",
    "                contador += 1;\n",
    "                print(contador)\n",
    "    calcularPorcentaje(contador)"
   ]
  },
  {
   "cell_type": "markdown",
   "metadata": {},
   "source": [
    "### Atencion Medico"
   ]
  },
  {
   "cell_type": "code",
   "execution_count": 23,
   "metadata": {
    "collapsed": false
   },
   "outputs": [],
   "source": [
    "def atencionMedico():\n",
    "    registro_medico = input(\"Registro del medico:\")\n",
    "    controlador = False\n",
    "    for medico in Medicos:\n",
    "        if(medico.registro_medico == registro_medico):\n",
    "            fecha_actual = datetime.now()\n",
    "            fecha_pasada = fecha_actual.date()\n",
    "            mes_pasado = fecha_pasada.month - 1\n",
    "            fecha_pasada = fecha_pasada.replace( month = mes_pasado)\n",
    "            print(\"Pacientes atendidos por este medico:\", medico.pacientes_atendidos)\n",
    "            contador = 0;\n",
    "            for consulta in medico.consultas:\n",
    "                if(mesPasado(consulta[1])):\n",
    "                    contador += 1\n",
    "            calcularPorcentaje(contador)\n",
    "            controlador = True\n",
    "    if(controlador == False):\n",
    "        print(\"No se contro registro medico.\")"
   ]
  },
  {
   "cell_type": "markdown",
   "metadata": {},
   "source": [
    "### Fechas"
   ]
  },
  {
   "cell_type": "code",
   "execution_count": 24,
   "metadata": {
    "collapsed": false
   },
   "outputs": [],
   "source": [
    "def mesPasado(fecha):\n",
    "            fecha_actual = datetime.now()\n",
    "            fecha_pasada = fecha_actual.date()\n",
    "            mes_pasado = fecha_pasada.month - 1\n",
    "            fecha_pasada = fecha_pasada.replace( month = mes_pasado)\n",
    "            # ¿Esta en el rango? \n",
    "            if(fecha.date()<=fecha_actual.date() and fecha.date()>=fecha_pasada):\n",
    "                return True\n",
    "            else:\n",
    "                return False\n",
    "def Fecha():\n",
    "    day = int(input(\"Escriba el dia de su cita\"))\n",
    "    month = int(input(\"Escriba el mes de su cita.\"))\n",
    "    year = int(input(\"Escriba el año de su cita\"))\n",
    "    return date(year, month, day)"
   ]
  },
  {
   "cell_type": "markdown",
   "metadata": {},
   "source": [
    "### Calcular Porcentaje"
   ]
  },
  {
   "cell_type": "code",
   "execution_count": 25,
   "metadata": {
    "collapsed": true
   },
   "outputs": [],
   "source": [
    "def calcularPorcentaje(numero):\n",
    "    porcentaje = (100 * numero)/len(Pacientes)\n",
    "    print(\"El porcentaje de pacientes atendidos este mes es:\", str(porcentaje))\n",
    "    "
   ]
  },
  {
   "cell_type": "markdown",
   "metadata": {},
   "source": [
    "# Menú"
   ]
  },
  {
   "cell_type": "code",
   "execution_count": null,
   "metadata": {
    "collapsed": false
   },
   "outputs": [
    {
     "name": "stdout",
     "output_type": "stream",
     "text": [
      "1. Registro Pacientes y Medicos. \n",
      "2. Consulta de Datos. \n",
      "3. Examenes. \n",
      "4. Consultas. \n",
      "5. Datos estadisticos. \n",
      "6. Salir.2\n",
      "1. Informacion paciente. \n",
      "2. Historia clinica de paciente.2\n",
      "1. Mostrar toda la historia. \n",
      "2. Mostrar por fecha en particular. \n",
      "3. Mostrar por rango de fecha.2\n",
      "Escriba el numero de documento del paciente:1\n",
      "Paciente encontrado\n",
      "1. Incluir Examenes. \n",
      " 2. No incluirlos1\n",
      "Escriba el dia de su cita6\n",
      "Escriba el mes de su cita.5\n",
      "Escriba el año de su cita2017\n",
      "-------------------------------\n",
      "Historia no. 0\n",
      "Dia: 6 Mes: 5 Año: 2017\n",
      "Registro del medico: 1\n",
      "Diagnostico: 1\n",
      "-------------------------------\n",
      "-------------------------------\n",
      "Examen no. 1\n",
      "Resultados:\n",
      "['1']\n"
     ]
    }
   ],
   "source": [
    "opc = 0\n",
    "while(opc!=6):\n",
    "    opc = int(input(\"1. Registro Pacientes y Medicos. \\n\"\n",
    "                   \"2. Consulta de Datos. \\n\"\n",
    "                   \"3. Examenes. \\n\"\n",
    "                   \"4. Consultas. \\n\"\n",
    "                   \"5. Datos estadisticos. \\n\"\n",
    "                   \"6. Salir.\"));\n",
    "    if(opc==1):\n",
    "        opc = int(input(\"1. Registrar Paciente. \\n\"\n",
    "                       \"2. Registrar Medico\"))\n",
    "        if(opc==1):\n",
    "            añadirPaciente();\n",
    "        elif(opc==2):\n",
    "            añadirMedico();\n",
    "        else:\n",
    "            print(\"Seleccione una opcion valida.\")\n",
    "    elif(opc==2):\n",
    "        opc = int(input(\"1. Informacion paciente. \\n\"\n",
    "                       \"2. Historia clinica de paciente.\"))\n",
    "        if(opc==1):\n",
    "            opc = int(input(\"1. Informacion Personal.\"))\n",
    "            if(opc==1):\n",
    "                informacionPersonal();\n",
    "        elif(opc==2):\n",
    "            mostrarHistoria();\n",
    "\n",
    "                \n",
    "        else:\n",
    "            print(\"Seleccione una opcion valida.\")\n",
    "            \n",
    "    elif(opc==3):\n",
    "        adicionarExamen()\n",
    "        \n",
    "    elif(opc==4):\n",
    "        nuevaConsulta()\n",
    "    elif(opc == 5):\n",
    "        opc = int(input(\"1. Pacientes atendidos este mes. \\n\"\n",
    "                       \"2. Pacientes atendidos por medico \"))\n",
    "        if(opc==1):\n",
    "            atencionPacientes()\n",
    "        elif(opc==2):\n",
    "            atencionMedico()\n",
    "    elif(opc==6):\n",
    "        print(\"Salio con exito de la paltaforma.\")\n",
    "    else:\n",
    "        print(\"Seleccione una opción valida.\")"
   ]
  },
  {
   "cell_type": "markdown",
   "metadata": {
    "collapsed": false
   },
   "source": [
    "# Datos "
   ]
  },
  {
   "cell_type": "code",
   "execution_count": null,
   "metadata": {
    "collapsed": false
   },
   "outputs": [],
   "source": [
    "Pacientes[0].examenes"
   ]
  },
  {
   "cell_type": "code",
   "execution_count": null,
   "metadata": {
    "collapsed": false
   },
   "outputs": [],
   "source": [
    "Pacientes[1].citas"
   ]
  },
  {
   "cell_type": "code",
   "execution_count": null,
   "metadata": {
    "collapsed": true
   },
   "outputs": [],
   "source": []
  },
  {
   "cell_type": "code",
   "execution_count": null,
   "metadata": {
    "collapsed": true
   },
   "outputs": [],
   "source": []
  },
  {
   "cell_type": "code",
   "execution_count": null,
   "metadata": {
    "collapsed": true
   },
   "outputs": [],
   "source": []
  },
  {
   "cell_type": "code",
   "execution_count": null,
   "metadata": {
    "collapsed": true
   },
   "outputs": [],
   "source": []
  },
  {
   "cell_type": "code",
   "execution_count": null,
   "metadata": {
    "collapsed": true
   },
   "outputs": [],
   "source": []
  },
  {
   "cell_type": "code",
   "execution_count": null,
   "metadata": {
    "collapsed": true
   },
   "outputs": [],
   "source": []
  },
  {
   "cell_type": "code",
   "execution_count": null,
   "metadata": {
    "collapsed": true
   },
   "outputs": [],
   "source": []
  },
  {
   "cell_type": "code",
   "execution_count": null,
   "metadata": {
    "collapsed": true
   },
   "outputs": [],
   "source": []
  },
  {
   "cell_type": "code",
   "execution_count": null,
   "metadata": {
    "collapsed": true
   },
   "outputs": [],
   "source": []
  },
  {
   "cell_type": "code",
   "execution_count": null,
   "metadata": {
    "collapsed": true
   },
   "outputs": [],
   "source": []
  },
  {
   "cell_type": "code",
   "execution_count": null,
   "metadata": {
    "collapsed": true
   },
   "outputs": [],
   "source": []
  }
 ],
 "metadata": {
  "kernelspec": {
   "display_name": "Python 3",
   "language": "python",
   "name": "python3"
  },
  "language_info": {
   "codemirror_mode": {
    "name": "ipython",
    "version": 3
   },
   "file_extension": ".py",
   "mimetype": "text/x-python",
   "name": "python",
   "nbconvert_exporter": "python",
   "pygments_lexer": "ipython3",
   "version": "3.6.0"
  }
 },
 "nbformat": 4,
 "nbformat_minor": 2
}
